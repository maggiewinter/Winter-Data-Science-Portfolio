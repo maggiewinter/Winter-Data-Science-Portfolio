{
 "cells": [
  {
   "cell_type": "markdown",
   "metadata": {},
   "source": [
    "### Data Cleaning & Tidy Process"
   ]
  },
  {
   "cell_type": "markdown",
   "metadata": {},
   "source": [
    "#### Introduction to Data"
   ]
  },
  {
   "cell_type": "markdown",
   "metadata": {},
   "source": [
    "The olympics_08_medalists dataset is a list of all athletes who medaled in the 2008 Summer Olympics. In its messy form, each athlete is in their own row and each individual sport (separated by gender) is its own column. The medal value (gold, silver, or bronze) is recorded for each athlete under the appropriate column."
   ]
  },
  {
   "cell_type": "code",
   "execution_count": 248,
   "metadata": {},
   "outputs": [
    {
     "data": {
      "text/html": [
       "<div>\n",
       "<style scoped>\n",
       "    .dataframe tbody tr th:only-of-type {\n",
       "        vertical-align: middle;\n",
       "    }\n",
       "\n",
       "    .dataframe tbody tr th {\n",
       "        vertical-align: top;\n",
       "    }\n",
       "\n",
       "    .dataframe thead th {\n",
       "        text-align: right;\n",
       "    }\n",
       "</style>\n",
       "<table border=\"1\" class=\"dataframe\">\n",
       "  <thead>\n",
       "    <tr style=\"text-align: right;\">\n",
       "      <th></th>\n",
       "      <th>medalist_name</th>\n",
       "      <th>male_archery</th>\n",
       "      <th>female_archery</th>\n",
       "      <th>male_athletics</th>\n",
       "      <th>female_athletics</th>\n",
       "      <th>male_badminton</th>\n",
       "      <th>female_badminton</th>\n",
       "      <th>male_baseball</th>\n",
       "      <th>male_basketball</th>\n",
       "      <th>female_basketball</th>\n",
       "      <th>...</th>\n",
       "      <th>female_beach volleyball</th>\n",
       "      <th>male_volleyball</th>\n",
       "      <th>female_volleyball</th>\n",
       "      <th>male_water polo</th>\n",
       "      <th>female_water polo</th>\n",
       "      <th>male_weightlifting</th>\n",
       "      <th>female_weightlifting</th>\n",
       "      <th>male_freestyle wrestling</th>\n",
       "      <th>female_freestyle wrestling</th>\n",
       "      <th>male_greco-roman wrestling</th>\n",
       "    </tr>\n",
       "  </thead>\n",
       "  <tbody>\n",
       "    <tr>\n",
       "      <th>0</th>\n",
       "      <td>Aaron Armstrong</td>\n",
       "      <td>NaN</td>\n",
       "      <td>NaN</td>\n",
       "      <td>gold</td>\n",
       "      <td>NaN</td>\n",
       "      <td>NaN</td>\n",
       "      <td>NaN</td>\n",
       "      <td>NaN</td>\n",
       "      <td>NaN</td>\n",
       "      <td>NaN</td>\n",
       "      <td>...</td>\n",
       "      <td>NaN</td>\n",
       "      <td>NaN</td>\n",
       "      <td>NaN</td>\n",
       "      <td>NaN</td>\n",
       "      <td>NaN</td>\n",
       "      <td>NaN</td>\n",
       "      <td>NaN</td>\n",
       "      <td>NaN</td>\n",
       "      <td>NaN</td>\n",
       "      <td>NaN</td>\n",
       "    </tr>\n",
       "    <tr>\n",
       "      <th>1</th>\n",
       "      <td>Aaron Peirsol</td>\n",
       "      <td>NaN</td>\n",
       "      <td>NaN</td>\n",
       "      <td>NaN</td>\n",
       "      <td>NaN</td>\n",
       "      <td>NaN</td>\n",
       "      <td>NaN</td>\n",
       "      <td>NaN</td>\n",
       "      <td>NaN</td>\n",
       "      <td>NaN</td>\n",
       "      <td>...</td>\n",
       "      <td>NaN</td>\n",
       "      <td>NaN</td>\n",
       "      <td>NaN</td>\n",
       "      <td>NaN</td>\n",
       "      <td>NaN</td>\n",
       "      <td>NaN</td>\n",
       "      <td>NaN</td>\n",
       "      <td>NaN</td>\n",
       "      <td>NaN</td>\n",
       "      <td>NaN</td>\n",
       "    </tr>\n",
       "    <tr>\n",
       "      <th>2</th>\n",
       "      <td>Abdullo Tangriev</td>\n",
       "      <td>NaN</td>\n",
       "      <td>NaN</td>\n",
       "      <td>NaN</td>\n",
       "      <td>NaN</td>\n",
       "      <td>NaN</td>\n",
       "      <td>NaN</td>\n",
       "      <td>NaN</td>\n",
       "      <td>NaN</td>\n",
       "      <td>NaN</td>\n",
       "      <td>...</td>\n",
       "      <td>NaN</td>\n",
       "      <td>NaN</td>\n",
       "      <td>NaN</td>\n",
       "      <td>NaN</td>\n",
       "      <td>NaN</td>\n",
       "      <td>NaN</td>\n",
       "      <td>NaN</td>\n",
       "      <td>NaN</td>\n",
       "      <td>NaN</td>\n",
       "      <td>NaN</td>\n",
       "    </tr>\n",
       "    <tr>\n",
       "      <th>3</th>\n",
       "      <td>Abeer Abdelrahman</td>\n",
       "      <td>NaN</td>\n",
       "      <td>NaN</td>\n",
       "      <td>NaN</td>\n",
       "      <td>NaN</td>\n",
       "      <td>NaN</td>\n",
       "      <td>NaN</td>\n",
       "      <td>NaN</td>\n",
       "      <td>NaN</td>\n",
       "      <td>NaN</td>\n",
       "      <td>...</td>\n",
       "      <td>NaN</td>\n",
       "      <td>NaN</td>\n",
       "      <td>NaN</td>\n",
       "      <td>NaN</td>\n",
       "      <td>NaN</td>\n",
       "      <td>NaN</td>\n",
       "      <td>bronze</td>\n",
       "      <td>NaN</td>\n",
       "      <td>NaN</td>\n",
       "      <td>NaN</td>\n",
       "    </tr>\n",
       "    <tr>\n",
       "      <th>4</th>\n",
       "      <td>Abhinav</td>\n",
       "      <td>NaN</td>\n",
       "      <td>NaN</td>\n",
       "      <td>NaN</td>\n",
       "      <td>NaN</td>\n",
       "      <td>NaN</td>\n",
       "      <td>NaN</td>\n",
       "      <td>NaN</td>\n",
       "      <td>NaN</td>\n",
       "      <td>NaN</td>\n",
       "      <td>...</td>\n",
       "      <td>NaN</td>\n",
       "      <td>NaN</td>\n",
       "      <td>NaN</td>\n",
       "      <td>NaN</td>\n",
       "      <td>NaN</td>\n",
       "      <td>NaN</td>\n",
       "      <td>NaN</td>\n",
       "      <td>NaN</td>\n",
       "      <td>NaN</td>\n",
       "      <td>NaN</td>\n",
       "    </tr>\n",
       "  </tbody>\n",
       "</table>\n",
       "<p>5 rows × 71 columns</p>\n",
       "</div>"
      ],
      "text/plain": [
       "       medalist_name male_archery female_archery male_athletics  \\\n",
       "0    Aaron Armstrong          NaN            NaN           gold   \n",
       "1      Aaron Peirsol          NaN            NaN            NaN   \n",
       "2   Abdullo Tangriev          NaN            NaN            NaN   \n",
       "3  Abeer Abdelrahman          NaN            NaN            NaN   \n",
       "4            Abhinav          NaN            NaN            NaN   \n",
       "\n",
       "  female_athletics male_badminton female_badminton male_baseball  \\\n",
       "0              NaN            NaN              NaN           NaN   \n",
       "1              NaN            NaN              NaN           NaN   \n",
       "2              NaN            NaN              NaN           NaN   \n",
       "3              NaN            NaN              NaN           NaN   \n",
       "4              NaN            NaN              NaN           NaN   \n",
       "\n",
       "  male_basketball female_basketball  ... female_beach volleyball  \\\n",
       "0             NaN               NaN  ...                     NaN   \n",
       "1             NaN               NaN  ...                     NaN   \n",
       "2             NaN               NaN  ...                     NaN   \n",
       "3             NaN               NaN  ...                     NaN   \n",
       "4             NaN               NaN  ...                     NaN   \n",
       "\n",
       "  male_volleyball female_volleyball male_water polo female_water polo  \\\n",
       "0             NaN               NaN             NaN               NaN   \n",
       "1             NaN               NaN             NaN               NaN   \n",
       "2             NaN               NaN             NaN               NaN   \n",
       "3             NaN               NaN             NaN               NaN   \n",
       "4             NaN               NaN             NaN               NaN   \n",
       "\n",
       "  male_weightlifting female_weightlifting male_freestyle wrestling  \\\n",
       "0                NaN                  NaN                      NaN   \n",
       "1                NaN                  NaN                      NaN   \n",
       "2                NaN                  NaN                      NaN   \n",
       "3                NaN               bronze                      NaN   \n",
       "4                NaN                  NaN                      NaN   \n",
       "\n",
       "  female_freestyle wrestling male_greco-roman wrestling  \n",
       "0                        NaN                        NaN  \n",
       "1                        NaN                        NaN  \n",
       "2                        NaN                        NaN  \n",
       "3                        NaN                        NaN  \n",
       "4                        NaN                        NaN  \n",
       "\n",
       "[5 rows x 71 columns]"
      ]
     },
     "metadata": {},
     "output_type": "display_data"
    }
   ],
   "source": [
    "# Import necessary libraries\n",
    "import pandas as pd\n",
    "import seaborn as sns\n",
    "import matplotlib.pyplot as plt\n",
    "\n",
    "# Read in dataset and display in messy form\n",
    "df = pd.read_csv(\"data/olympics_08_medalists.csv\")\n",
    "display(df.head())"
   ]
  },
  {
   "cell_type": "markdown",
   "metadata": {},
   "source": [
    "Each observation is in its own row, in accordance with tidy data principles, but the variables are combined within the column headings. The gender, sport, and medal type for each athlete need to form individual columns."
   ]
  },
  {
   "cell_type": "markdown",
   "metadata": {},
   "source": [
    "#### Tidy Data Principle: Each Variable in its Own Column"
   ]
  },
  {
   "cell_type": "markdown",
   "metadata": {},
   "source": [
    "Tidy data principles dictate that each variable needs to be in its own column. In the first step, the dataset is melted so that each athlete retains their individual row with the gendered sport and medal listed. Then, N/A values are dropped and the `gendered_sport` column is split into `sex` and `sport`."
   ]
  },
  {
   "cell_type": "code",
   "execution_count": 260,
   "metadata": {},
   "outputs": [
    {
     "name": "stdout",
     "output_type": "stream",
     "text": [
      "Melted Dataset (First 5 Rows):\n"
     ]
    },
    {
     "data": {
      "text/html": [
       "<div>\n",
       "<style scoped>\n",
       "    .dataframe tbody tr th:only-of-type {\n",
       "        vertical-align: middle;\n",
       "    }\n",
       "\n",
       "    .dataframe tbody tr th {\n",
       "        vertical-align: top;\n",
       "    }\n",
       "\n",
       "    .dataframe thead th {\n",
       "        text-align: right;\n",
       "    }\n",
       "</style>\n",
       "<table border=\"1\" class=\"dataframe\">\n",
       "  <thead>\n",
       "    <tr style=\"text-align: right;\">\n",
       "      <th></th>\n",
       "      <th>medalist_name</th>\n",
       "      <th>gendered_sport</th>\n",
       "      <th>medal</th>\n",
       "    </tr>\n",
       "  </thead>\n",
       "  <tbody>\n",
       "    <tr>\n",
       "      <th>3750</th>\n",
       "      <td>Aaron Armstrong</td>\n",
       "      <td>male_athletics</td>\n",
       "      <td>gold</td>\n",
       "    </tr>\n",
       "    <tr>\n",
       "      <th>3751</th>\n",
       "      <td>Aaron Peirsol</td>\n",
       "      <td>male_athletics</td>\n",
       "      <td>NaN</td>\n",
       "    </tr>\n",
       "    <tr>\n",
       "      <th>3752</th>\n",
       "      <td>Abdullo Tangriev</td>\n",
       "      <td>male_athletics</td>\n",
       "      <td>NaN</td>\n",
       "    </tr>\n",
       "    <tr>\n",
       "      <th>3753</th>\n",
       "      <td>Abeer Abdelrahman</td>\n",
       "      <td>male_athletics</td>\n",
       "      <td>NaN</td>\n",
       "    </tr>\n",
       "    <tr>\n",
       "      <th>3754</th>\n",
       "      <td>Abhinav</td>\n",
       "      <td>male_athletics</td>\n",
       "      <td>NaN</td>\n",
       "    </tr>\n",
       "  </tbody>\n",
       "</table>\n",
       "</div>"
      ],
      "text/plain": [
       "          medalist_name  gendered_sport medal\n",
       "3750    Aaron Armstrong  male_athletics  gold\n",
       "3751      Aaron Peirsol  male_athletics   NaN\n",
       "3752   Abdullo Tangriev  male_athletics   NaN\n",
       "3753  Abeer Abdelrahman  male_athletics   NaN\n",
       "3754            Abhinav  male_athletics   NaN"
      ]
     },
     "metadata": {},
     "output_type": "display_data"
    },
    {
     "name": "stdout",
     "output_type": "stream",
     "text": [
      "\n",
      "Melted Dataset with N/A Values Removed (First 5 Rows):\n"
     ]
    },
    {
     "data": {
      "text/html": [
       "<div>\n",
       "<style scoped>\n",
       "    .dataframe tbody tr th:only-of-type {\n",
       "        vertical-align: middle;\n",
       "    }\n",
       "\n",
       "    .dataframe tbody tr th {\n",
       "        vertical-align: top;\n",
       "    }\n",
       "\n",
       "    .dataframe thead th {\n",
       "        text-align: right;\n",
       "    }\n",
       "</style>\n",
       "<table border=\"1\" class=\"dataframe\">\n",
       "  <thead>\n",
       "    <tr style=\"text-align: right;\">\n",
       "      <th></th>\n",
       "      <th>medalist_name</th>\n",
       "      <th>gendered_sport</th>\n",
       "      <th>medal</th>\n",
       "    </tr>\n",
       "  </thead>\n",
       "  <tbody>\n",
       "    <tr>\n",
       "      <th>177</th>\n",
       "      <td>Bair Badënov</td>\n",
       "      <td>male_archery</td>\n",
       "      <td>bronze</td>\n",
       "    </tr>\n",
       "    <tr>\n",
       "      <th>676</th>\n",
       "      <td>Ilario Di Buò</td>\n",
       "      <td>male_archery</td>\n",
       "      <td>silver</td>\n",
       "    </tr>\n",
       "    <tr>\n",
       "      <th>682</th>\n",
       "      <td>Im Dong-hyun</td>\n",
       "      <td>male_archery</td>\n",
       "      <td>gold</td>\n",
       "    </tr>\n",
       "    <tr>\n",
       "      <th>760</th>\n",
       "      <td>Jiang Lin</td>\n",
       "      <td>male_archery</td>\n",
       "      <td>bronze</td>\n",
       "    </tr>\n",
       "    <tr>\n",
       "      <th>920</th>\n",
       "      <td>Lee Chang-hwan</td>\n",
       "      <td>male_archery</td>\n",
       "      <td>gold</td>\n",
       "    </tr>\n",
       "  </tbody>\n",
       "</table>\n",
       "</div>"
      ],
      "text/plain": [
       "      medalist_name gendered_sport   medal\n",
       "177    Bair Badënov   male_archery  bronze\n",
       "676   Ilario Di Buò   male_archery  silver\n",
       "682    Im Dong-hyun   male_archery    gold\n",
       "760       Jiang Lin   male_archery  bronze\n",
       "920  Lee Chang-hwan   male_archery    gold"
      ]
     },
     "metadata": {},
     "output_type": "display_data"
    },
    {
     "name": "stdout",
     "output_type": "stream",
     "text": [
      "\n",
      "Final Tidied Data (First 5 Rows):\n"
     ]
    },
    {
     "data": {
      "text/html": [
       "<div>\n",
       "<style scoped>\n",
       "    .dataframe tbody tr th:only-of-type {\n",
       "        vertical-align: middle;\n",
       "    }\n",
       "\n",
       "    .dataframe tbody tr th {\n",
       "        vertical-align: top;\n",
       "    }\n",
       "\n",
       "    .dataframe thead th {\n",
       "        text-align: right;\n",
       "    }\n",
       "</style>\n",
       "<table border=\"1\" class=\"dataframe\">\n",
       "  <thead>\n",
       "    <tr style=\"text-align: right;\">\n",
       "      <th></th>\n",
       "      <th>medalist_name</th>\n",
       "      <th>medal</th>\n",
       "      <th>sex</th>\n",
       "      <th>sport</th>\n",
       "    </tr>\n",
       "  </thead>\n",
       "  <tbody>\n",
       "    <tr>\n",
       "      <th>2656</th>\n",
       "      <td>Joo Hyun-Jung</td>\n",
       "      <td>gold</td>\n",
       "      <td>female</td>\n",
       "      <td>archery</td>\n",
       "    </tr>\n",
       "    <tr>\n",
       "      <th>3705</th>\n",
       "      <td>Zhang Juanjuan</td>\n",
       "      <td>gold</td>\n",
       "      <td>female</td>\n",
       "      <td>archery</td>\n",
       "    </tr>\n",
       "    <tr>\n",
       "      <th>2160</th>\n",
       "      <td>Chen Ling</td>\n",
       "      <td>silver</td>\n",
       "      <td>female</td>\n",
       "      <td>archery</td>\n",
       "    </tr>\n",
       "    <tr>\n",
       "      <th>2472</th>\n",
       "      <td>Guo Dan</td>\n",
       "      <td>silver</td>\n",
       "      <td>female</td>\n",
       "      <td>archery</td>\n",
       "    </tr>\n",
       "    <tr>\n",
       "      <th>3191</th>\n",
       "      <td>Park Sung-hyun</td>\n",
       "      <td>silver</td>\n",
       "      <td>female</td>\n",
       "      <td>archery</td>\n",
       "    </tr>\n",
       "  </tbody>\n",
       "</table>\n",
       "</div>"
      ],
      "text/plain": [
       "       medalist_name   medal     sex    sport\n",
       "2656   Joo Hyun-Jung    gold  female  archery\n",
       "3705  Zhang Juanjuan    gold  female  archery\n",
       "2160       Chen Ling  silver  female  archery\n",
       "2472         Guo Dan  silver  female  archery\n",
       "3191  Park Sung-hyun  silver  female  archery"
      ]
     },
     "metadata": {},
     "output_type": "display_data"
    }
   ],
   "source": [
    "# Melt dataset to make gendered sport columns into row values\n",
    "df_melted = pd.melt(df, id_vars = [\"medalist_name\"],\n",
    "                             var_name = \"gendered_sport\", value_name = \"medal\")\n",
    "\n",
    "# Change medal values to be sorted in order of place, not alphabetically\n",
    "df_melted[\"medal\"] = pd.Categorical(df_melted[\"medal\"], categories = [\"gold\", \"silver\", \"bronze\"], ordered = True)\n",
    "\n",
    "# Display with sport selected to demonstrate how 'medal' row contains both medal values and N/A entries\n",
    "print(\"Melted Dataset (First 5 Rows):\")\n",
    "display(df_melted[df_melted[\"gendered_sport\"] == \"male_athletics\"].head())\n",
    "\n",
    "# Drop the N/A values that appear for athletes that didn't medal in a specifc sport\n",
    "df_melted = df_melted.dropna()\n",
    "\n",
    "# Display updated data without N/A values\n",
    "print(\"\\nMelted Dataset with N/A Values Removed (First 5 Rows):\")\n",
    "display(df_melted.head())\n",
    "\n",
    "# Split gendered_sport into sex and sport columns by separating it at the underscore in each name\n",
    "df_melted[[\"sex\", \"sport\"]] = df_melted[\"gendered_sport\"].str.split(pat = \"_\", expand = True)\n",
    "\n",
    "# Drop the gendered_sport column and sort the data by the athletes' sport, gender, and medal\n",
    "df_melted = df_melted.drop(columns = [\"gendered_sport\"]).sort_values(by = [\"sport\", \"sex\", \"medal\"])\n",
    "\n",
    "# Display final data\n",
    "print(\"\\nFinal Tidied Data (First 5 Rows):\")\n",
    "display(df_melted.head())"
   ]
  },
  {
   "cell_type": "markdown",
   "metadata": {},
   "source": [
    "### Visualizations"
   ]
  },
  {
   "cell_type": "markdown",
   "metadata": {},
   "source": [
    "Now that the code is tidy, it becomes a lot simpler to visualize the data by different variables."
   ]
  },
  {
   "cell_type": "code",
   "execution_count": 253,
   "metadata": {},
   "outputs": [
    {
     "data": {
      "image/png": "[encoded data removed]",
      "text/plain": [
       "<Figure size 800x500 with 1 Axes>"
      ]
     },
     "metadata": {},
     "output_type": "display_data"
    }
   ],
   "source": [
    "# Create a bar plot of the amount of medalists for each value\n",
    "plt.figure(figsize = (8, 5))\n",
    "sns.countplot(df_melted, x = \"medal\", hue = \"medal\", palette = [\"#FDD017\", \"#C0C0C0\", \"#B87333\"])\n",
    "\n",
    "# Add labels\n",
    "plt.title(\"Overall Medal Distribution\")\n",
    "plt.xlabel(\"Medal\")\n",
    "plt.ylabel(\"Number of Athletes\")\n",
    "plt.show()"
   ]
  },
  {
   "cell_type": "code",
   "execution_count": 254,
   "metadata": {},
   "outputs": [
    {
     "data": {
      "image/png": "[encoded data removed]",
      "text/plain": [
       "<Figure size 800x500 with 1 Axes>"
      ]
     },
     "metadata": {},
     "output_type": "display_data"
    }
   ],
   "source": [
    "# Create a bar plot comparing male vs female medalists\n",
    "plt.figure(figsize = (8, 5))\n",
    "sns.countplot(df_melted, x = \"sex\", hue = \"sex\", palette = [\"#FFC2D9\", \"#96CBFC\"])\n",
    "\n",
    "# Add labels\n",
    "plt.title(\"Medalists by Sex\")\n",
    "plt.xlabel(\"Sex\")\n",
    "plt.ylabel(\"Number of Athletes\")\n",
    "plt.show()"
   ]
  },
  {
   "cell_type": "code",
   "execution_count": 257,
   "metadata": {},
   "outputs": [
    {
     "data": {
      "image/png": "[encoded data removed]",
      "text/plain": [
       "<Figure size 800x500 with 1 Axes>"
      ]
     },
     "metadata": {},
     "output_type": "display_data"
    }
   ],
   "source": [
    "# Create table with total amount of medalists per sport\n",
    "medalists_per_sport = df_melted[\"sport\"].value_counts().reset_index()\n",
    "\n",
    "# Plot number of medalists per sport\n",
    "plt.figure(figsize = (8, 5))\n",
    "sns.barplot(data = medalists_per_sport,\n",
    "            x = \"sport\",\n",
    "            y = \"count\",\n",
    "            hue = \"sport\",\n",
    "            palette = \"mako_r\")\n",
    "\n",
    "# Add labels\n",
    "plt.title(\"Medalists per Sport\")\n",
    "plt.xlabel(\"Sport\")\n",
    "plt.ylabel(\"Number of Medalists\")\n",
    "plt.xticks(rotation = 90, fontsize = 8)  \n",
    "plt.show()"
   ]
  },
  {
   "cell_type": "markdown",
   "metadata": {},
   "source": [
    "### `pivot_table` Aggregation\n"
   ]
  },
  {
   "cell_type": "markdown",
   "metadata": {},
   "source": [
    "`pivot_table` allows the data to be aggregated and counted by the number of medalists in each medal type for each sport."
   ]
  },
  {
   "cell_type": "code",
   "execution_count": 262,
   "metadata": {},
   "outputs": [
    {
     "name": "stdout",
     "output_type": "stream",
     "text": [
      "Pivoted Data (First 5 Rows):\n"
     ]
    },
    {
     "data": {
      "text/html": [
       "<div>\n",
       "<style scoped>\n",
       "    .dataframe tbody tr th:only-of-type {\n",
       "        vertical-align: middle;\n",
       "    }\n",
       "\n",
       "    .dataframe tbody tr th {\n",
       "        vertical-align: top;\n",
       "    }\n",
       "\n",
       "    .dataframe thead th {\n",
       "        text-align: right;\n",
       "    }\n",
       "</style>\n",
       "<table border=\"1\" class=\"dataframe\">\n",
       "  <thead>\n",
       "    <tr style=\"text-align: right;\">\n",
       "      <th>medal</th>\n",
       "      <th>gold</th>\n",
       "      <th>silver</th>\n",
       "      <th>bronze</th>\n",
       "    </tr>\n",
       "    <tr>\n",
       "      <th>sport</th>\n",
       "      <th></th>\n",
       "      <th></th>\n",
       "      <th></th>\n",
       "    </tr>\n",
       "  </thead>\n",
       "  <tbody>\n",
       "    <tr>\n",
       "      <th>archery</th>\n",
       "      <td>5</td>\n",
       "      <td>7</td>\n",
       "      <td>8</td>\n",
       "    </tr>\n",
       "    <tr>\n",
       "      <th>artistic gymnastics</th>\n",
       "      <td>14</td>\n",
       "      <td>16</td>\n",
       "      <td>19</td>\n",
       "    </tr>\n",
       "    <tr>\n",
       "      <th>association football</th>\n",
       "      <td>37</td>\n",
       "      <td>36</td>\n",
       "      <td>36</td>\n",
       "    </tr>\n",
       "    <tr>\n",
       "      <th>athletics</th>\n",
       "      <td>52</td>\n",
       "      <td>59</td>\n",
       "      <td>55</td>\n",
       "    </tr>\n",
       "    <tr>\n",
       "      <th>badminton</th>\n",
       "      <td>7</td>\n",
       "      <td>8</td>\n",
       "      <td>7</td>\n",
       "    </tr>\n",
       "  </tbody>\n",
       "</table>\n",
       "</div>"
      ],
      "text/plain": [
       "medal                 gold  silver  bronze\n",
       "sport                                     \n",
       "archery                  5       7       8\n",
       "artistic gymnastics     14      16      19\n",
       "association football    37      36      36\n",
       "athletics               52      59      55\n",
       "badminton                7       8       7"
      ]
     },
     "metadata": {},
     "output_type": "display_data"
    }
   ],
   "source": [
    "# Use pivot_table to create aggregated table\n",
    "df_pivoted = pd.pivot_table(df_melted, values='medalist_name',\n",
    "                                    index='sport', columns='medal', aggfunc='count', observed = True)\n",
    "\n",
    "# Display\n",
    "print(\"Pivoted Data (First 5 Rows):\")\n",
    "display(df_pivoted.head())"
   ]
  }
 ],
 "metadata": {
  "kernelspec": {
   "display_name": "base",
   "language": "python",
   "name": "python3"
  },
  "language_info": {
   "codemirror_mode": {
    "name": "ipython",
    "version": 3
   },
   "file_extension": ".py",
   "mimetype": "text/x-python",
   "name": "python",
   "nbconvert_exporter": "python",
   "pygments_lexer": "ipython3",
   "version": "3.12.7"
  }
 },
 "nbformat": 4,
 "nbformat_minor": 2
}
